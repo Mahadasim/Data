{
  "nbformat": 4,
  "nbformat_minor": 0,
  "metadata": {
    "colab": {
      "name": "Untitled1.ipynb",
      "provenance": [],
      "authorship_tag": "ABX9TyO8x4mZywuzDy2XJmnEcwPe",
      "include_colab_link": true
    },
    "kernelspec": {
      "name": "python3",
      "display_name": "Python 3"
    },
    "language_info": {
      "name": "python"
    }
  },
  "cells": [
    {
      "cell_type": "markdown",
      "metadata": {
        "id": "view-in-github",
        "colab_type": "text"
      },
      "source": [
        "<a href=\"https://colab.research.google.com/github/Mahadasim/Data_Practice/blob/master/DS_Practice.ipynb\" target=\"_parent\"><img src=\"https://colab.research.google.com/assets/colab-badge.svg\" alt=\"Open In Colab\"/></a>"
      ]
    },
    {
      "cell_type": "code",
      "execution_count": 1,
      "metadata": {
        "id": "E1iqtlihB0Yi"
      },
      "outputs": [],
      "source": [
        "import pandas as pd\n",
        "import numpy as np"
      ]
    },
    {
      "cell_type": "code",
      "source": [
        "data = pd.read_csv(\"/content/weatherAUS.csv\")\n",
        "print(data.head)"
      ],
      "metadata": {
        "colab": {
          "base_uri": "https://localhost:8080/"
        },
        "id": "3hzH7mBNIAcp",
        "outputId": "37061f5e-9281-4cfc-e543-bbe552c2979a"
      },
      "execution_count": 33,
      "outputs": [
        {
          "output_type": "stream",
          "name": "stdout",
          "text": [
            "<bound method NDFrame.head of               Date Location  MinTemp  MaxTemp  Rainfall  Evaporation  \\\n",
            "0       2008-12-01   Albury     13.4     22.9       0.6          NaN   \n",
            "1       2008-12-02   Albury      7.4     25.1       0.0          NaN   \n",
            "2       2008-12-03   Albury     12.9     25.7       0.0          NaN   \n",
            "3       2008-12-04   Albury      9.2     28.0       0.0          NaN   \n",
            "4       2008-12-05   Albury     17.5     32.3       1.0          NaN   \n",
            "...            ...      ...      ...      ...       ...          ...   \n",
            "145455  2017-06-21    Uluru      2.8     23.4       0.0          NaN   \n",
            "145456  2017-06-22    Uluru      3.6     25.3       0.0          NaN   \n",
            "145457  2017-06-23    Uluru      5.4     26.9       0.0          NaN   \n",
            "145458  2017-06-24    Uluru      7.8     27.0       0.0          NaN   \n",
            "145459  2017-06-25    Uluru     14.9      NaN       0.0          NaN   \n",
            "\n",
            "        Sunshine WindGustDir  WindGustSpeed WindDir9am  ... Humidity9am  \\\n",
            "0            NaN           W           44.0          W  ...        71.0   \n",
            "1            NaN         WNW           44.0        NNW  ...        44.0   \n",
            "2            NaN         WSW           46.0          W  ...        38.0   \n",
            "3            NaN          NE           24.0         SE  ...        45.0   \n",
            "4            NaN           W           41.0        ENE  ...        82.0   \n",
            "...          ...         ...            ...        ...  ...         ...   \n",
            "145455       NaN           E           31.0         SE  ...        51.0   \n",
            "145456       NaN         NNW           22.0         SE  ...        56.0   \n",
            "145457       NaN           N           37.0         SE  ...        53.0   \n",
            "145458       NaN          SE           28.0        SSE  ...        51.0   \n",
            "145459       NaN         NaN            NaN        ESE  ...        62.0   \n",
            "\n",
            "        Humidity3pm  Pressure9am  Pressure3pm  Cloud9am  Cloud3pm  Temp9am  \\\n",
            "0              22.0       1007.7       1007.1       8.0       NaN     16.9   \n",
            "1              25.0       1010.6       1007.8       NaN       NaN     17.2   \n",
            "2              30.0       1007.6       1008.7       NaN       2.0     21.0   \n",
            "3              16.0       1017.6       1012.8       NaN       NaN     18.1   \n",
            "4              33.0       1010.8       1006.0       7.0       8.0     17.8   \n",
            "...             ...          ...          ...       ...       ...      ...   \n",
            "145455         24.0       1024.6       1020.3       NaN       NaN     10.1   \n",
            "145456         21.0       1023.5       1019.1       NaN       NaN     10.9   \n",
            "145457         24.0       1021.0       1016.8       NaN       NaN     12.5   \n",
            "145458         24.0       1019.4       1016.5       3.0       2.0     15.1   \n",
            "145459         36.0       1020.2       1017.9       8.0       8.0     15.0   \n",
            "\n",
            "        Temp3pm  RainToday  RainTomorrow  \n",
            "0          21.8         No            No  \n",
            "1          24.3         No            No  \n",
            "2          23.2         No            No  \n",
            "3          26.5         No            No  \n",
            "4          29.7         No            No  \n",
            "...         ...        ...           ...  \n",
            "145455     22.4         No            No  \n",
            "145456     24.5         No            No  \n",
            "145457     26.1         No            No  \n",
            "145458     26.0         No            No  \n",
            "145459     20.9         No           NaN  \n",
            "\n",
            "[145460 rows x 23 columns]>\n"
          ]
        }
      ]
    },
    {
      "cell_type": "code",
      "source": [
        "X = data.drop([\"Date\",\"Evaporation\",\"Sunshine\", \"RainTomorrow\"],axis=1)\n",
        "X = X.values\n",
        "Y = data['RainTomorrow'].values"
      ],
      "metadata": {
        "id": "yAs3OaQvIjFd"
      },
      "execution_count": 23,
      "outputs": []
    },
    {
      "cell_type": "code",
      "source": [
        "Y = Y.reshape(-1,1)\n",
        "print(Y)"
      ],
      "metadata": {
        "colab": {
          "base_uri": "https://localhost:8080/"
        },
        "id": "1YNVAK03OTtI",
        "outputId": "99480fe8-cc04-494b-dbbb-8b7c2305196a"
      },
      "execution_count": 24,
      "outputs": [
        {
          "output_type": "stream",
          "name": "stdout",
          "text": [
            "[['No']\n",
            " ['No']\n",
            " ['No']\n",
            " ...\n",
            " ['No']\n",
            " ['No']\n",
            " [nan]]\n"
          ]
        }
      ]
    },
    {
      "cell_type": "code",
      "source": [
        "from sklearn.impute import SimpleImputer\n",
        "imputer = SimpleImputer(missing_values = np.nan, strategy=\"most_frequent\")\n",
        "X = imputer.fit_transform(X)"
      ],
      "metadata": {
        "id": "RuHtsuOfOZWU"
      },
      "execution_count": 132,
      "outputs": []
    },
    {
      "cell_type": "code",
      "source": [
        "print(X)"
      ],
      "metadata": {
        "colab": {
          "base_uri": "https://localhost:8080/"
        },
        "id": "V1U3h1MtR0ss",
        "outputId": "93e40064-88ab-4e73-87a3-49aed5b28ea8"
      },
      "execution_count": 133,
      "outputs": [
        {
          "output_type": "stream",
          "name": "stdout",
          "text": [
            "[[ 2.00000000e+00  1.91327532e-01 -4.13597721e-02 ... -1.40707746e-02\n",
            "   2.31036247e-02  0.00000000e+00]\n",
            " [ 2.00000000e+00 -7.51052308e-01  2.68744522e-01 ...  3.24466319e-02\n",
            "   3.87798995e-01  0.00000000e+00]\n",
            " [ 2.00000000e+00  1.12795879e-01  3.53318420e-01 ...  6.21667115e-01\n",
            "   2.27333032e-01  0.00000000e+00]\n",
            " ...\n",
            " [ 4.10000000e+01 -1.06517892e+00  5.22466217e-01 ... -6.96326071e-01\n",
            "   6.50379662e-01  0.00000000e+00]\n",
            " [ 4.10000000e+01 -6.88226986e-01  5.36561867e-01 ... -2.93175214e-01\n",
            "   6.35791847e-01  0.00000000e+00]\n",
            " [ 4.10000000e+01  4.26922492e-01 -4.50133614e-01 ... -3.08681016e-01\n",
            "  -1.08186709e-01  0.00000000e+00]]\n"
          ]
        }
      ]
    },
    {
      "cell_type": "code",
      "source": [
        "print(Y)"
      ],
      "metadata": {
        "colab": {
          "base_uri": "https://localhost:8080/"
        },
        "id": "cs0PUh3BSKwA",
        "outputId": "1ec73fef-789e-47e5-be1f-a158b1ff9254"
      },
      "execution_count": 134,
      "outputs": [
        {
          "output_type": "stream",
          "name": "stdout",
          "text": [
            "[0 0 0 ... 0 0 0]\n"
          ]
        }
      ]
    },
    {
      "cell_type": "code",
      "source": [
        "Y = Y.reshape(-1,1)"
      ],
      "metadata": {
        "id": "YuvhNNrfejM9"
      },
      "execution_count": 136,
      "outputs": []
    },
    {
      "cell_type": "code",
      "source": [
        "from sklearn.preprocessing import LabelEncoder"
      ],
      "metadata": {
        "id": "8wEFGQ0hSLzU"
      },
      "execution_count": 137,
      "outputs": []
    },
    {
      "cell_type": "code",
      "source": [
        "le = LabelEncoder()\n",
        "X[:,0] = le.fit_transform(X[:,0])\n",
        "le2 = LabelEncoder()\n",
        "X[:,4] = le2.fit_transform(X[:,4])\n",
        "le3 = LabelEncoder()\n",
        "X[:,6] = le3.fit_transform(X[:,6])\n",
        "le4 = LabelEncoder()\n",
        "X[:,7] = le4.fit_transform(X[:,7])\n",
        "le5 = LabelEncoder()\n",
        "X[:,-1] = le5.fit_transform(X[:,-1])\n",
        "le6 = LabelEncoder()\n",
        "Y[:,-1] = le6.fit_transform(Y[:,-1])"
      ],
      "metadata": {
        "id": "4Mj_uo2_SSHV"
      },
      "execution_count": 138,
      "outputs": []
    },
    {
      "cell_type": "code",
      "source": [
        "from sklearn.preprocessing import StandardScaler\n",
        "sc = StandardScaler()\n",
        "X = sc.fit_transform(X)"
      ],
      "metadata": {
        "id": "MiAjKWeWUEFT"
      },
      "execution_count": 139,
      "outputs": []
    },
    {
      "cell_type": "code",
      "source": [
        "from sklearn.model_selection import train_test_split\n",
        "X_train, X_test, Y_train, Y_test = train_test_split(X,Y,test_size=0.2, random_state=0)"
      ],
      "metadata": {
        "id": "h91GlNeTUiX1"
      },
      "execution_count": 140,
      "outputs": []
    },
    {
      "cell_type": "code",
      "source": [
        "from sklearn.ensemble import RandomForestClassifier\n",
        "classifier = RandomForestClassifier(n_estimators=100,random_state=0)\n",
        "classifier.fit(X_train,Y_train)"
      ],
      "metadata": {
        "colab": {
          "base_uri": "https://localhost:8080/"
        },
        "id": "mDl_wgEYVcmI",
        "outputId": "9bd1ae91-2862-44ed-871d-dbae27875908"
      },
      "execution_count": 148,
      "outputs": [
        {
          "output_type": "stream",
          "name": "stderr",
          "text": [
            "/usr/local/lib/python3.7/dist-packages/ipykernel_launcher.py:3: DataConversionWarning: A column-vector y was passed when a 1d array was expected. Please change the shape of y to (n_samples,), for example using ravel().\n",
            "  This is separate from the ipykernel package so we can avoid doing imports until\n"
          ]
        },
        {
          "output_type": "execute_result",
          "data": {
            "text/plain": [
              "RandomForestClassifier(random_state=0)"
            ]
          },
          "metadata": {},
          "execution_count": 148
        }
      ]
    },
    {
      "cell_type": "code",
      "source": [
        "classifier.score(X_train,Y_train)"
      ],
      "metadata": {
        "colab": {
          "base_uri": "https://localhost:8080/"
        },
        "id": "ttwVZujsXi_w",
        "outputId": "635686ff-ef6f-4017-dfd9-9b3c94a938dc"
      },
      "execution_count": 149,
      "outputs": [
        {
          "output_type": "execute_result",
          "data": {
            "text/plain": [
              "0.9999312525780283"
            ]
          },
          "metadata": {},
          "execution_count": 149
        }
      ]
    },
    {
      "cell_type": "code",
      "source": [
        "y_pred = le6.inverse_transform(np.array(classifier.predict(X_test),dtype=int))\n",
        "Y_test = le6.inverse_transform(np.array(Y_test,dtype=int))"
      ],
      "metadata": {
        "id": "nJDVI-DjfIVw"
      },
      "execution_count": 151,
      "outputs": []
    },
    {
      "cell_type": "code",
      "source": [
        "print(y_pred)"
      ],
      "metadata": {
        "colab": {
          "base_uri": "https://localhost:8080/"
        },
        "id": "t6ntQXEGfNN7",
        "outputId": "9123923e-3014-4fbc-ab7d-7eb05e824f70"
      },
      "execution_count": 152,
      "outputs": [
        {
          "output_type": "stream",
          "name": "stdout",
          "text": [
            "[0 0 0 ... 0 0 0]\n"
          ]
        }
      ]
    },
    {
      "cell_type": "code",
      "source": [
        "print(Y_test)"
      ],
      "metadata": {
        "colab": {
          "base_uri": "https://localhost:8080/"
        },
        "id": "z5JoXFb5fOuj",
        "outputId": "77fba043-e75b-4761-d848-09f50beb770a"
      },
      "execution_count": 154,
      "outputs": [
        {
          "output_type": "stream",
          "name": "stdout",
          "text": [
            "[1 1 0 ... 1 0 0]\n"
          ]
        }
      ]
    },
    {
      "cell_type": "code",
      "source": [
        "y_pred = y_pred.reshape(-1,1)\n",
        "Y_test = Y_test.reshape(-1,1)"
      ],
      "metadata": {
        "id": "9YobIwDQfUU_"
      },
      "execution_count": 155,
      "outputs": []
    },
    {
      "cell_type": "code",
      "source": [
        "df = np.concatenate((Y_test,y_pred),axis=1)\n",
        "dataframe = pd.DataFrame(df,columns=['Rain on Tommorrow','Predition of Rain'])\n",
        "print(dataframe)"
      ],
      "metadata": {
        "colab": {
          "base_uri": "https://localhost:8080/"
        },
        "id": "QHXGG0_bfVRe",
        "outputId": "ea8012dd-6105-464f-a617-7f2209fc823a"
      },
      "execution_count": 157,
      "outputs": [
        {
          "output_type": "stream",
          "name": "stdout",
          "text": [
            "       Rain on Tommorrow  Predition of Rain\n",
            "0                      1                  0\n",
            "1                      1                  0\n",
            "2                      0                  0\n",
            "3                      0                  1\n",
            "4                      0                  0\n",
            "...                  ...                ...\n",
            "29087                  0                  1\n",
            "29088                  0                  0\n",
            "29089                  1                  0\n",
            "29090                  0                  0\n",
            "29091                  0                  0\n",
            "\n",
            "[29092 rows x 2 columns]\n"
          ]
        }
      ]
    },
    {
      "cell_type": "code",
      "source": [
        "from sklearn.metrics import accuracy_score\n",
        "accuracy_score(Y_test,y_pred)"
      ],
      "metadata": {
        "colab": {
          "base_uri": "https://localhost:8080/"
        },
        "id": "rCr7Rdg9fal7",
        "outputId": "f0ec0370-3e3c-4843-9255-00311a9840dd"
      },
      "execution_count": 158,
      "outputs": [
        {
          "output_type": "execute_result",
          "data": {
            "text/plain": [
              "0.8521930427608965"
            ]
          },
          "metadata": {},
          "execution_count": 158
        }
      ]
    },
    {
      "cell_type": "code",
      "source": [
        ""
      ],
      "metadata": {
        "id": "6NmHuNrHfbL8"
      },
      "execution_count": null,
      "outputs": []
    }
  ]
}