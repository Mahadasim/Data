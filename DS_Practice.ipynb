{
  "nbformat": 4,
  "nbformat_minor": 0,
  "metadata": {
    "colab": {
      "name": "Untitled1.ipynb",
      "provenance": [],
      "authorship_tag": "ABX9TyPVzePQ23lEWO0eItX78omR",
      "include_colab_link": true
    },
    "kernelspec": {
      "name": "python3",
      "display_name": "Python 3"
    },
    "language_info": {
      "name": "python"
    }
  },
  "cells": [
    {
      "cell_type": "markdown",
      "metadata": {
        "id": "view-in-github",
        "colab_type": "text"
      },
      "source": [
        "<a href=\"https://colab.research.google.com/github/Mahadasim/Data_Practice/blob/master/DS_Practice.ipynb\" target=\"_parent\"><img src=\"https://colab.research.google.com/assets/colab-badge.svg\" alt=\"Open In Colab\"/></a>"
      ]
    },
    {
      "cell_type": "code",
      "execution_count": 1,
      "metadata": {
        "id": "E1iqtlihB0Yi"
      },
      "outputs": [],
      "source": [
        "import pandas as pd\n",
        "import numpy as np"
      ]
    },
    {
      "cell_type": "code",
      "source": [
        "data = pd.read_csv(\"/content/weatherAUS.csv\")\n",
        "print(data.head)"
      ],
      "metadata": {
        "colab": {
          "base_uri": "https://localhost:8080/"
        },
        "id": "3hzH7mBNIAcp",
        "outputId": "37061f5e-9281-4cfc-e543-bbe552c2979a"
      },
      "execution_count": 33,
      "outputs": [
        {
          "output_type": "stream",
          "name": "stdout",
          "text": [
            "<bound method NDFrame.head of               Date Location  MinTemp  MaxTemp  Rainfall  Evaporation  \\\n",
            "0       2008-12-01   Albury     13.4     22.9       0.6          NaN   \n",
            "1       2008-12-02   Albury      7.4     25.1       0.0          NaN   \n",
            "2       2008-12-03   Albury     12.9     25.7       0.0          NaN   \n",
            "3       2008-12-04   Albury      9.2     28.0       0.0          NaN   \n",
            "4       2008-12-05   Albury     17.5     32.3       1.0          NaN   \n",
            "...            ...      ...      ...      ...       ...          ...   \n",
            "145455  2017-06-21    Uluru      2.8     23.4       0.0          NaN   \n",
            "145456  2017-06-22    Uluru      3.6     25.3       0.0          NaN   \n",
            "145457  2017-06-23    Uluru      5.4     26.9       0.0          NaN   \n",
            "145458  2017-06-24    Uluru      7.8     27.0       0.0          NaN   \n",
            "145459  2017-06-25    Uluru     14.9      NaN       0.0          NaN   \n",
            "\n",
            "        Sunshine WindGustDir  WindGustSpeed WindDir9am  ... Humidity9am  \\\n",
            "0            NaN           W           44.0          W  ...        71.0   \n",
            "1            NaN         WNW           44.0        NNW  ...        44.0   \n",
            "2            NaN         WSW           46.0          W  ...        38.0   \n",
            "3            NaN          NE           24.0         SE  ...        45.0   \n",
            "4            NaN           W           41.0        ENE  ...        82.0   \n",
            "...          ...         ...            ...        ...  ...         ...   \n",
            "145455       NaN           E           31.0         SE  ...        51.0   \n",
            "145456       NaN         NNW           22.0         SE  ...        56.0   \n",
            "145457       NaN           N           37.0         SE  ...        53.0   \n",
            "145458       NaN          SE           28.0        SSE  ...        51.0   \n",
            "145459       NaN         NaN            NaN        ESE  ...        62.0   \n",
            "\n",
            "        Humidity3pm  Pressure9am  Pressure3pm  Cloud9am  Cloud3pm  Temp9am  \\\n",
            "0              22.0       1007.7       1007.1       8.0       NaN     16.9   \n",
            "1              25.0       1010.6       1007.8       NaN       NaN     17.2   \n",
            "2              30.0       1007.6       1008.7       NaN       2.0     21.0   \n",
            "3              16.0       1017.6       1012.8       NaN       NaN     18.1   \n",
            "4              33.0       1010.8       1006.0       7.0       8.0     17.8   \n",
            "...             ...          ...          ...       ...       ...      ...   \n",
            "145455         24.0       1024.6       1020.3       NaN       NaN     10.1   \n",
            "145456         21.0       1023.5       1019.1       NaN       NaN     10.9   \n",
            "145457         24.0       1021.0       1016.8       NaN       NaN     12.5   \n",
            "145458         24.0       1019.4       1016.5       3.0       2.0     15.1   \n",
            "145459         36.0       1020.2       1017.9       8.0       8.0     15.0   \n",
            "\n",
            "        Temp3pm  RainToday  RainTomorrow  \n",
            "0          21.8         No            No  \n",
            "1          24.3         No            No  \n",
            "2          23.2         No            No  \n",
            "3          26.5         No            No  \n",
            "4          29.7         No            No  \n",
            "...         ...        ...           ...  \n",
            "145455     22.4         No            No  \n",
            "145456     24.5         No            No  \n",
            "145457     26.1         No            No  \n",
            "145458     26.0         No            No  \n",
            "145459     20.9         No           NaN  \n",
            "\n",
            "[145460 rows x 23 columns]>\n"
          ]
        }
      ]
    },
    {
      "cell_type": "code",
      "source": [
        "X = data.drop([\"Date\",\"Evaporation\",\"Sunshine\", \"RainTomorrow\"],axis=1)\n",
        "X = X.values\n",
        "Y = data['RainTomorrow'].values"
      ],
      "metadata": {
        "id": "yAs3OaQvIjFd"
      },
      "execution_count": 23,
      "outputs": []
    },
    {
      "cell_type": "code",
      "source": [
        "Y = Y.reshape(-1,1)\n",
        "print(Y)"
      ],
      "metadata": {
        "colab": {
          "base_uri": "https://localhost:8080/"
        },
        "id": "1YNVAK03OTtI",
        "outputId": "99480fe8-cc04-494b-dbbb-8b7c2305196a"
      },
      "execution_count": 24,
      "outputs": [
        {
          "output_type": "stream",
          "name": "stdout",
          "text": [
            "[['No']\n",
            " ['No']\n",
            " ['No']\n",
            " ...\n",
            " ['No']\n",
            " ['No']\n",
            " [nan]]\n"
          ]
        }
      ]
    },
    {
      "cell_type": "code",
      "source": [
        "from sklearn.impute import SimpleImputer\n",
        "imputer = SimpleImputer(missing_values = np.nan, strategy=\"most_frequent\")\n",
        "X = imputer.fit_transform(X)\n",
        "Y = imputer.fit_transform(Y)"
      ],
      "metadata": {
        "id": "RuHtsuOfOZWU"
      },
      "execution_count": 27,
      "outputs": []
    },
    {
      "cell_type": "code",
      "source": [
        "print(X)"
      ],
      "metadata": {
        "colab": {
          "base_uri": "https://localhost:8080/"
        },
        "id": "V1U3h1MtR0ss",
        "outputId": "516e0a39-d275-44b4-dcbe-da180ab4e06f"
      },
      "execution_count": 29,
      "outputs": [
        {
          "output_type": "stream",
          "name": "stdout",
          "text": [
            "[['Albury' 13.4 22.9 ... 16.9 21.8 'No']\n",
            " ['Albury' 7.4 25.1 ... 17.2 24.3 'No']\n",
            " ['Albury' 12.9 25.7 ... 21.0 23.2 'No']\n",
            " ...\n",
            " ['Uluru' 5.4 26.9 ... 12.5 26.1 'No']\n",
            " ['Uluru' 7.8 27.0 ... 15.1 26.0 'No']\n",
            " ['Uluru' 14.9 20.0 ... 15.0 20.9 'No']]\n"
          ]
        }
      ]
    },
    {
      "cell_type": "code",
      "source": [
        "print(Y)"
      ],
      "metadata": {
        "colab": {
          "base_uri": "https://localhost:8080/"
        },
        "id": "cs0PUh3BSKwA",
        "outputId": "81129ec3-5fe9-4bf1-8dac-9b866356a0b7"
      },
      "execution_count": 30,
      "outputs": [
        {
          "output_type": "stream",
          "name": "stdout",
          "text": [
            "[['No']\n",
            " ['No']\n",
            " ['No']\n",
            " ...\n",
            " ['No']\n",
            " ['No']\n",
            " ['No']]\n"
          ]
        }
      ]
    },
    {
      "cell_type": "code",
      "source": [
        "from sklearn.preprocessing import LabelEncoder"
      ],
      "metadata": {
        "id": "8wEFGQ0hSLzU"
      },
      "execution_count": 35,
      "outputs": []
    },
    {
      "cell_type": "code",
      "source": [
        "le = LabelEncoder()\n",
        "X[:,0] = le.fit_transform(X[:,0])\n",
        "le2 = LabelEncoder()\n",
        "X[:,4] = le2.fit_transform(X[:,4])\n",
        "le3 = LabelEncoder()\n",
        "X[:,6] = le3.fit_transform(X[:,6])\n",
        "le4 = LabelEncoder()\n",
        "X[:,7] = le4.fit_transform(X[:,7])\n",
        "le5 = LabelEncoder()\n",
        "X[:,-1] = le5.fit_transform(X[:,-1])\n",
        "print(X)"
      ],
      "metadata": {
        "colab": {
          "base_uri": "https://localhost:8080/"
        },
        "id": "4Mj_uo2_SSHV",
        "outputId": "a8c3b032-116f-45ad-8b71-8a6ac969b5e1"
      },
      "execution_count": 39,
      "outputs": [
        {
          "output_type": "stream",
          "name": "stdout",
          "text": [
            "[[2 13.4 22.9 ... 16.9 21.8 0]\n",
            " [2 7.4 25.1 ... 17.2 24.3 0]\n",
            " [2 12.9 25.7 ... 21.0 23.2 0]\n",
            " ...\n",
            " [41 5.4 26.9 ... 12.5 26.1 0]\n",
            " [41 7.8 27.0 ... 15.1 26.0 0]\n",
            " [41 14.9 20.0 ... 15.0 20.9 0]]\n"
          ]
        }
      ]
    },
    {
      "cell_type": "code",
      "source": [
        "le6 = LabelEncoder()\n",
        "Y = le6.fit_transform(Y)\n",
        "print(Y)"
      ],
      "metadata": {
        "colab": {
          "base_uri": "https://localhost:8080/"
        },
        "id": "bF4KxWoZTc-I",
        "outputId": "30e5f001-5a66-4fa0-eefb-b7d46b2fd608"
      },
      "execution_count": 49,
      "outputs": [
        {
          "output_type": "stream",
          "name": "stdout",
          "text": [
            "[0 0 0 ... 0 0 0]\n"
          ]
        }
      ]
    },
    {
      "cell_type": "code",
      "source": [
        "from sklearn.preprocessing import StandardScaler\n",
        "sc = StandardScaler()\n",
        "X = sc.fit_transform(X)"
      ],
      "metadata": {
        "id": "MiAjKWeWUEFT"
      },
      "execution_count": 48,
      "outputs": []
    },
    {
      "cell_type": "code",
      "source": [
        ""
      ],
      "metadata": {
        "id": "h91GlNeTUiX1"
      },
      "execution_count": null,
      "outputs": []
    }
  ]
}