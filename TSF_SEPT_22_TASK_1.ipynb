{
  "nbformat": 4,
  "nbformat_minor": 0,
  "metadata": {
    "colab": {
      "provenance": [],
      "authorship_tag": "ABX9TyPdbt5HNjvvEa5g8KyibKUH",
      "include_colab_link": true
    },
    "kernelspec": {
      "name": "python3",
      "display_name": "Python 3"
    },
    "language_info": {
      "name": "python"
    }
  },
  "cells": [
    {
      "cell_type": "markdown",
      "metadata": {
        "id": "view-in-github",
        "colab_type": "text"
      },
      "source": [
        "<a href=\"https://colab.research.google.com/github/Mahadasim/Data/blob/master/TSF_SEPT_22_TASK_1.ipynb\" target=\"_parent\"><img src=\"https://colab.research.google.com/assets/colab-badge.svg\" alt=\"Open In Colab\"/></a>"
      ]
    },
    {
      "cell_type": "markdown",
      "source": [
        "## DATA SCIENCE AND BUSINESS ANALYTICS\n",
        "### INTERN AT **_THE SPARKS FOUNDATION_**\n",
        "### TASK # 01 BY **MUHAMMAD MAHAD ASIM**\n",
        "\n",
        "\n",
        "---\n",
        "\n",
        "\n",
        "# **PREDICTION USING SUPERVISED ML**\n",
        "## What will be the predicted score if student studied for 9.25 hrs/day?\n",
        "\n"
      ],
      "metadata": {
        "id": "_Dlp-e0d7TYj"
      }
    },
    {
      "cell_type": "code",
      "source": [],
      "metadata": {
        "id": "HEcCGIyI79es"
      },
      "execution_count": null,
      "outputs": []
    }
  ]
}